{
 "cells": [
  {
   "cell_type": "code",
   "execution_count": 1,
   "metadata": {},
   "outputs": [],
   "source": [
    "import pandas as pd\n",
    "import numpy as np\n",
    "import math as mt\n",
    "import matplotlib.pyplot as plt"
   ]
  },
  {
   "cell_type": "code",
   "execution_count": null,
   "metadata": {},
   "outputs": [],
   "source": [
    "salariespoints_df = pd.read_csv(\"/Users/lima22/Desktop/NBA_Salr_Bask/nbasalariespoints.csv\")"
   ]
  },
  {
   "cell_type": "code",
   "execution_count": 2,
   "metadata": {},
   "outputs": [
    {
     "ename": "NameError",
     "evalue": "name 'salariespoints_df' is not defined",
     "output_type": "error",
     "traceback": [
      "\u001b[0;31m---------------------------------------------------------------------------\u001b[0m",
      "\u001b[0;31mNameError\u001b[0m                                 Traceback (most recent call last)",
      "\u001b[0;32m<ipython-input-2-1a58a797c5e7>\u001b[0m in \u001b[0;36m<module>\u001b[0;34m\u001b[0m\n\u001b[0;32m----> 1\u001b[0;31m \u001b[0mNewdf\u001b[0m \u001b[0;34m=\u001b[0m \u001b[0msalariespoints_df\u001b[0m\u001b[0;34m[\u001b[0m\u001b[0;34m[\u001b[0m\u001b[0;34m\"Player\"\u001b[0m\u001b[0;34m,\u001b[0m\u001b[0;34m\"PTS\"\u001b[0m\u001b[0;34m,\u001b[0m\u001b[0;34m\"FG\"\u001b[0m\u001b[0;34m,\u001b[0m\u001b[0;34m\"FGA\"\u001b[0m\u001b[0;34m,\u001b[0m\u001b[0;34m\"FTA\"\u001b[0m\u001b[0;34m,\u001b[0m\u001b[0;34m\"FT\"\u001b[0m\u001b[0;34m,\u001b[0m\u001b[0;34m\"ORB\"\u001b[0m\u001b[0;34m,\u001b[0m\u001b[0;34m\"DRB\"\u001b[0m\u001b[0;34m,\u001b[0m\u001b[0;34m\"STL\"\u001b[0m\u001b[0;34m,\u001b[0m\u001b[0;34m\"AST\"\u001b[0m\u001b[0;34m,\u001b[0m\u001b[0;34m\"BLK\"\u001b[0m\u001b[0;34m,\u001b[0m\u001b[0;34m\"PF\"\u001b[0m\u001b[0;34m,\u001b[0m\u001b[0;34m\"TOVBLK\"\u001b[0m\u001b[0;34m,\u001b[0m\u001b[0;34m\"TOV\"\u001b[0m\u001b[0;34m,\u001b[0m\u001b[0;34m\"SALARY\"\u001b[0m\u001b[0;34m]\u001b[0m\u001b[0;34m]\u001b[0m\u001b[0;34m\u001b[0m\u001b[0;34m\u001b[0m\u001b[0m\n\u001b[0m",
      "\u001b[0;31mNameError\u001b[0m: name 'salariespoints_df' is not defined"
     ]
    }
   ],
   "source": [
    "Newdf = salariespoints_df[[\"Player\",\"PTS\",\"FG\",\"FGA\",\"FTA\",\"FT\",\"ORB\",\"DRB\",\"STL\",\"AST\",\"BLK\",\"PF\",\"TOVBLK\",\"TOV\",\"SALARY\"]]"
   ]
  },
  {
   "cell_type": "code",
   "execution_count": null,
   "metadata": {},
   "outputs": [],
   "source": []
  }
 ],
 "metadata": {
  "kernelspec": {
   "display_name": "Python 3",
   "language": "python",
   "name": "python3"
  },
  "language_info": {
   "codemirror_mode": {
    "name": "ipython",
    "version": 3
   },
   "file_extension": ".py",
   "mimetype": "text/x-python",
   "name": "python",
   "nbconvert_exporter": "python",
   "pygments_lexer": "ipython3",
   "version": "3.7.1"
  }
 },
 "nbformat": 4,
 "nbformat_minor": 2
}
